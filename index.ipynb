{
 "cells": [
  {
   "cell_type": "markdown",
   "metadata": {},
   "source": [
    "# Solving Systems of Linear Equations with NumPy - Lab\n",
    "\n",
    "## Introduction \n",
    "\n",
    "Now you've gathered all the required skills needed to solve systems of linear equations. You saw why there was a need to calculate inverses of matrices, followed by matrix multiplication to figure out the values of unknown variables. \n",
    "\n",
    "The exercises in this lab present some problems that can be converted into a system of linear equations. \n",
    "\n",
    "## Objectives\n",
    "You will be able to:\n",
    "\n",
    "- Use matrix algebra and NumPy to solve a system of linear equations given a real-life example \n",
    "- Use NumPy's linear algebra solver to solve for systems of linear equations\n",
    "\n",
    "## Exercise 1\n",
    "\n",
    "A coffee shop is having a sale on coffee and tea. \n",
    "\n",
    "On day 1, 29 bags of coffee and 41 bags of tea were sold, for a total of 490 dollars.\n",
    "\n",
    "On day 2, they sold 23 bags of coffee and 41 bags of tea, for which customers paid a total of 448 dollars.  \n",
    "\n",
    "How much does each bag cost?"
   ]
  },
  {
   "cell_type": "code",
   "execution_count": 4,
   "metadata": {},
   "outputs": [
    {
     "data": {
      "text/plain": [
       "matrix([[7.],\n",
       "        [7.]])"
      ]
     },
     "execution_count": 4,
     "metadata": {},
     "output_type": "execute_result"
    }
   ],
   "source": [
    "# Create and solve the relevant system of equations\n",
    "\n",
    "# import numpy\n",
    "import numpy as np\n",
    "\n",
    "# x = bags of coffee\n",
    "# y = bags of tea\n",
    "\n",
    "# A) 29x + 41y = 490\n",
    "# B) 23x + 41y = 448\n",
    "\n",
    "A = np.matrix([[29, 41], [23, 41]])\n",
    "B = np.matrix([[490, 448]])\n",
    "\n",
    "# Take the inverse of Matrix A \n",
    "A_inv = np.linalg.inv(A)\n",
    "\n",
    "# Transpose B\n",
    "B = B.T\n",
    "\n",
    "# Calculate the dot product of inverse A and transposed B to find result\n",
    "X = A_inv.dot(B)\n",
    "X"
   ]
  },
  {
   "cell_type": "code",
   "execution_count": 5,
   "metadata": {},
   "outputs": [
    {
     "name": "stdout",
     "output_type": "stream",
     "text": [
      "Each bag of coffee costs $7 and each bag of tea costs $7\n"
     ]
    }
   ],
   "source": [
    "# Describe your result\n",
    "\n",
    "print(\"Each bag of coffee costs $7 and each bag of tea costs $7\")"
   ]
  },
  {
   "cell_type": "markdown",
   "metadata": {},
   "source": [
    "## Exercise 2\n",
    "\n",
    "The cost of admission to a popular music concert was 162 dollars for 12 children and 3 adults. \n",
    "\n",
    "The admission was 122 dollars for 8 children and 3 adults in the same music concert. \n",
    "\n",
    "How much was the admission for each child and adult?"
   ]
  },
  {
   "cell_type": "code",
   "execution_count": 7,
   "metadata": {},
   "outputs": [
    {
     "data": {
      "text/plain": [
       "matrix([[10.],\n",
       "        [14.]])"
      ]
     },
     "execution_count": 7,
     "metadata": {},
     "output_type": "execute_result"
    }
   ],
   "source": [
    "# Create and solve the relevant system of equations\n",
    "\n",
    "# A) 12x + 3y = 162\n",
    "# B) 8x + 3y = 122\n",
    "\n",
    "A = np.matrix([[12,3], [8,3]])\n",
    "B = np.matrix([[162, 122]])\n",
    "\n",
    "# Take inverse of A and transpose B\n",
    "A_inv = np.linalg.inv(A)\n",
    "B = B.T\n",
    "\n",
    "# Calculate result\n",
    "X = A_inv.dot(B)\n",
    "X"
   ]
  },
  {
   "cell_type": "code",
   "execution_count": 8,
   "metadata": {},
   "outputs": [
    {
     "name": "stdout",
     "output_type": "stream",
     "text": [
      "Each children ticket costs $10 and each adult ticket costs $14\n"
     ]
    }
   ],
   "source": [
    "# Describe your result\n",
    "print(\"Each children ticket costs $10 and each adult ticket costs $14\")"
   ]
  },
  {
   "cell_type": "markdown",
   "metadata": {},
   "source": [
    "## Exercise 3\n",
    "\n",
    "You want to make a soup containing tomatoes, carrots, and onions.\n",
    "\n",
    "Suppose you don't know the exact mix to put in, but you know there are 7 individual pieces of vegetables, and there are twice as many tomatoes as onions, and that the 7 pieces of vegetables cost 5.25 USD in total. \n",
    "You also know that onions cost 0.5 USD each, tomatoes cost 0.75 USD and carrots cost 1.25 USD each.\n",
    "\n",
    "Create a system of equations to find out exactly how many of each of the vegetables are in your soup."
   ]
  },
  {
   "cell_type": "code",
   "execution_count": 15,
   "metadata": {},
   "outputs": [
    {
     "data": {
      "text/plain": [
       "matrix([[2.],\n",
       "        [4.],\n",
       "        [1.]])"
      ]
     },
     "execution_count": 15,
     "metadata": {},
     "output_type": "execute_result"
    }
   ],
   "source": [
    "# Create and solve the relevant system of equations\n",
    "\n",
    "# x = tomatoes, y = tomatoes, z = carrots\n",
    "\n",
    "# A) 0.5x + 0.75y + 1.25z = 5.25   -- Total cost\n",
    "# B) x + y + z = 7   -- Total number of vegetables\n",
    "# C) -2x + y = 0   -- Twice as many tomatoes as onions\n",
    "\n",
    "A = np.matrix([[0.5, 0.75, 1.25], [1, 1, 1], [-2, 1, 0]])\n",
    "B = np.matrix([[5.25, 7, 0]])\n",
    "\n",
    "# Take inverse of A and transpose B\n",
    "A_inv = np.linalg.inv(A)\n",
    "B = B.T\n",
    "\n",
    "# Calculate result\n",
    "X = A_inv.dot(B)\n",
    "X"
   ]
  },
  {
   "cell_type": "code",
   "execution_count": 16,
   "metadata": {},
   "outputs": [
    {
     "name": "stdout",
     "output_type": "stream",
     "text": [
      "The soup needs 4 tomatoes, 2 onions, and 1 carrots.\n"
     ]
    }
   ],
   "source": [
    "# Describe your result\n",
    "print(\"The soup needs 4 tomatoes, 2 onions, and 1 carrots.\")"
   ]
  },
  {
   "cell_type": "markdown",
   "metadata": {},
   "source": [
    "## Exercise 4\n",
    "\n",
    "A landlord owns 3 properties: a 1-bedroom, a 2-bedroom, and a 3-bedroom house. \n",
    "\n",
    "The total rent he receives is 1240 USD. \n",
    "\n",
    "He needs to make some repairs, where those repairs cost 10% of the 1-bedroom house’s rent. The 2-bedroom repairs cost 20% of the 2-bedroom rental price and 30% of the 3-bedroom house's rent for its repairs.  The total repair bill for all three houses was 276 USD. \n",
    "\n",
    "The 3-bedroom house's rent is twice the 1-bedroom house’s rent. \n",
    "\n",
    "How much is the individual rent for three houses?"
   ]
  },
  {
   "cell_type": "code",
   "execution_count": 17,
   "metadata": {},
   "outputs": [
    {
     "data": {
      "text/plain": [
       "matrix([[280.],\n",
       "        [400.],\n",
       "        [560.]])"
      ]
     },
     "execution_count": 17,
     "metadata": {},
     "output_type": "execute_result"
    }
   ],
   "source": [
    "# Create and solve the relevant system of equations\n",
    "\n",
    "# x = 1-bed rent, y = 2-bed rent, z = 3-bed rent\n",
    "\n",
    "# A) x + y + z = 1240\n",
    "# B) .1x + .2y + .3z = 276\n",
    "# C) -2x + z = 0\n",
    "\n",
    "A = np.matrix([[1, 1, 1], [.1, .2, .3], [-2, 0, 1]])\n",
    "B = np.matrix([[1240, 276, 0]])\n",
    "\n",
    "# Take inverse of A and transpose B\n",
    "A_inv = np.linalg.inv(A)\n",
    "B = B.T\n",
    "\n",
    "# Calculate result\n",
    "X = A_inv.dot(B)\n",
    "X"
   ]
  },
  {
   "cell_type": "code",
   "execution_count": 18,
   "metadata": {},
   "outputs": [
    {
     "name": "stdout",
     "output_type": "stream",
     "text": [
      "1-bed rent is $280, 2-bed rent is $400, 3-bed rent is $560\n"
     ]
    }
   ],
   "source": [
    "# Describe your result\n",
    "print(\"1-bed rent is $280, 2-bed rent is $400, 3-bed rent is $560\")"
   ]
  },
  {
   "cell_type": "markdown",
   "metadata": {},
   "source": [
    "## Summary\n",
    "In this lab, you learned how to use NumPy to solve linear equations by taking inverses and matrix multiplication and also using numpy's `solve()` function. You'll now take these skills forward and see how you can define a simple regression problem using linear algebra and solve it with Numpy. "
   ]
  }
 ],
 "metadata": {
  "kernelspec": {
   "display_name": "Python 3",
   "language": "python",
   "name": "python3"
  },
  "language_info": {
   "codemirror_mode": {
    "name": "ipython",
    "version": 3
   },
   "file_extension": ".py",
   "mimetype": "text/x-python",
   "name": "python",
   "nbconvert_exporter": "python",
   "pygments_lexer": "ipython3",
   "version": "3.8.5"
  },
  "toc": {
   "base_numbering": 1,
   "nav_menu": {},
   "number_sections": true,
   "sideBar": true,
   "skip_h1_title": false,
   "title_cell": "Table of Contents",
   "title_sidebar": "Contents",
   "toc_cell": false,
   "toc_position": {},
   "toc_section_display": true,
   "toc_window_display": false
  }
 },
 "nbformat": 4,
 "nbformat_minor": 2
}
